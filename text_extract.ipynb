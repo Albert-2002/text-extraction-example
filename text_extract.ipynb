{
 "cells": [
  {
   "cell_type": "code",
   "execution_count": 1,
   "metadata": {},
   "outputs": [
    {
     "data": {
      "text/plain": [
       "10"
      ]
     },
     "execution_count": 1,
     "metadata": {},
     "output_type": "execute_result"
    }
   ],
   "source": [
    "5+5"
   ]
  },
  {
   "cell_type": "code",
   "execution_count": 2,
   "metadata": {},
   "outputs": [
    {
     "name": "stdout",
     "output_type": "stream",
     "text": [
      "            URL_ID                                                URL\n",
      "0  blackassign0001  https://insights.blackcoffer.com/rising-it-cit...\n",
      "1  blackassign0002  https://insights.blackcoffer.com/rising-it-cit...\n",
      "2  blackassign0003  https://insights.blackcoffer.com/internet-dema...\n",
      "3  blackassign0004  https://insights.blackcoffer.com/rise-of-cyber...\n",
      "4  blackassign0005  https://insights.blackcoffer.com/ott-platform-...\n"
     ]
    }
   ],
   "source": [
    "import pandas as pd\n",
    "\n",
    "df = pd.read_excel('problem_statement/Input.xlsx')\n",
    "\n",
    "print(df.head())"
   ]
  },
  {
   "cell_type": "code",
   "execution_count": 3,
   "metadata": {},
   "outputs": [
    {
     "name": "stdout",
     "output_type": "stream",
     "text": [
      "<class 'pandas.core.frame.DataFrame'>\n",
      "RangeIndex: 100 entries, 0 to 99\n",
      "Data columns (total 2 columns):\n",
      " #   Column  Non-Null Count  Dtype \n",
      "---  ------  --------------  ----- \n",
      " 0   URL_ID  100 non-null    object\n",
      " 1   URL     100 non-null    object\n",
      "dtypes: object(2)\n",
      "memory usage: 1.7+ KB\n"
     ]
    }
   ],
   "source": [
    "df.info()"
   ]
  },
  {
   "cell_type": "code",
   "execution_count": 4,
   "metadata": {},
   "outputs": [
    {
     "name": "stdout",
     "output_type": "stream",
     "text": [
      "100\n"
     ]
    }
   ],
   "source": [
    "urls = list(df['URL'])\n",
    "print(len(urls))"
   ]
  },
  {
   "cell_type": "code",
   "execution_count": 13,
   "metadata": {},
   "outputs": [
    {
     "name": "stdout",
     "output_type": "stream",
     "text": [
      "100\n"
     ]
    }
   ],
   "source": [
    "url_ids = list(df['URL_ID'])\n",
    "print(len(url_ids))"
   ]
  },
  {
   "cell_type": "code",
   "execution_count": 6,
   "metadata": {},
   "outputs": [
    {
     "name": "stdout",
     "output_type": "stream",
     "text": [
      "<class 'pandas.core.frame.DataFrame'>\n",
      "RangeIndex: 100 entries, 0 to 99\n",
      "Data columns (total 15 columns):\n",
      " #   Column                            Non-Null Count  Dtype  \n",
      "---  ------                            --------------  -----  \n",
      " 0   URL_ID                            100 non-null    object \n",
      " 1   URL                               100 non-null    object \n",
      " 2   POSITIVE SCORE                    0 non-null      float64\n",
      " 3   NEGATIVE SCORE                    1 non-null      object \n",
      " 4   POLARITY SCORE                    0 non-null      float64\n",
      " 5   SUBJECTIVITY SCORE                0 non-null      float64\n",
      " 6   AVG SENTENCE LENGTH               0 non-null      float64\n",
      " 7   PERCENTAGE OF COMPLEX WORDS       0 non-null      float64\n",
      " 8   FOG INDEX                         0 non-null      float64\n",
      " 9   AVG NUMBER OF WORDS PER SENTENCE  0 non-null      float64\n",
      " 10  COMPLEX WORD COUNT                0 non-null      float64\n",
      " 11  WORD COUNT                        0 non-null      float64\n",
      " 12  SYLLABLE PER WORD                 0 non-null      float64\n",
      " 13  PERSONAL PRONOUNS                 0 non-null      float64\n",
      " 14  AVG WORD LENGTH                   0 non-null      float64\n",
      "dtypes: float64(12), object(3)\n",
      "memory usage: 11.8+ KB\n"
     ]
    }
   ],
   "source": [
    "output_struct = pd.read_excel('problem_statement/Output Data Structure.xlsx')\n",
    "output_struct.info()"
   ]
  },
  {
   "cell_type": "code",
   "execution_count": 12,
   "metadata": {},
   "outputs": [
    {
     "name": "stdout",
     "output_type": "stream",
     "text": [
      "URL_ID\n",
      "URL\n",
      "POSITIVE SCORE\n",
      "NEGATIVE SCORE\n",
      "POLARITY SCORE\n",
      "SUBJECTIVITY SCORE\n",
      "AVG SENTENCE LENGTH\n",
      "PERCENTAGE OF COMPLEX WORDS\n",
      "FOG INDEX\n",
      "AVG NUMBER OF WORDS PER SENTENCE\n",
      "COMPLEX WORD COUNT\n",
      "WORD COUNT\n",
      "SYLLABLE PER WORD\n",
      "PERSONAL PRONOUNS\n",
      "AVG WORD LENGTH\n"
     ]
    }
   ],
   "source": [
    "for i in list(output_struct.columns):\n",
    "    print(i)"
   ]
  },
  {
   "cell_type": "code",
   "execution_count": null,
   "metadata": {},
   "outputs": [],
   "source": []
  },
  {
   "cell_type": "code",
   "execution_count": null,
   "metadata": {},
   "outputs": [],
   "source": []
  },
  {
   "cell_type": "code",
   "execution_count": null,
   "metadata": {},
   "outputs": [],
   "source": []
  },
  {
   "cell_type": "code",
   "execution_count": null,
   "metadata": {},
   "outputs": [],
   "source": []
  }
 ],
 "metadata": {
  "kernelspec": {
   "display_name": "Python 3",
   "language": "python",
   "name": "python3"
  },
  "language_info": {
   "codemirror_mode": {
    "name": "ipython",
    "version": 3
   },
   "file_extension": ".py",
   "mimetype": "text/x-python",
   "name": "python",
   "nbconvert_exporter": "python",
   "pygments_lexer": "ipython3",
   "version": "3.12.0"
  }
 },
 "nbformat": 4,
 "nbformat_minor": 2
}
